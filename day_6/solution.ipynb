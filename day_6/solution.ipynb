{
 "cells": [
  {
   "cell_type": "code",
   "execution_count": 1,
   "id": "7223cd0e",
   "metadata": {},
   "outputs": [],
   "source": [
    "import numpy as np\n",
    "import pandas as pd "
   ]
  },
  {
   "cell_type": "code",
   "execution_count": 2,
   "id": "83a830a2",
   "metadata": {},
   "outputs": [],
   "source": [
    "def read_data(file = \"input.txt\"):\n",
    "    with open(file) as openning:\n",
    "        data = openning.read()\n",
    "    return data\n",
    "\n",
    "def test_key_reader(part):\n",
    "    with open(f\"test_key_part{part}.txt\") as openning:\n",
    "        data = openning.read().split(\"\\n\")\n",
    "    return [int(d) for d in data if d!=\"\"]"
   ]
  },
  {
   "cell_type": "code",
   "execution_count": 3,
   "id": "573751d8",
   "metadata": {},
   "outputs": [],
   "source": [
    "def part_1(file = \"input.txt\",marker_length=4):\n",
    "    data = read_data(file)\n",
    "    for i in range(len(data)-marker_length):\n",
    "        current_key = data[i:i+marker_length]\n",
    "        if len(set(current_key))==marker_length:\n",
    "            return i+marker_length"
   ]
  },
  {
   "cell_type": "code",
   "execution_count": 4,
   "id": "73b32dfc",
   "metadata": {},
   "outputs": [],
   "source": [
    "part_1_sol = test_key_reader(1)\n",
    "for i in range(5):\n",
    "    assert part_1(f\"test_{i+1}.txt\")==part_1_sol[i]"
   ]
  },
  {
   "cell_type": "code",
   "execution_count": 5,
   "id": "c376b59a",
   "metadata": {},
   "outputs": [
    {
     "name": "stdout",
     "output_type": "stream",
     "text": [
      "1833\n"
     ]
    }
   ],
   "source": [
    "print(part_1())"
   ]
  },
  {
   "cell_type": "code",
   "execution_count": 6,
   "id": "cc70a057",
   "metadata": {},
   "outputs": [],
   "source": [
    "def part_2(file = \"input.txt\"):\n",
    "    return part_1(file=file,marker_length=14)"
   ]
  },
  {
   "cell_type": "code",
   "execution_count": 7,
   "id": "99860043",
   "metadata": {},
   "outputs": [],
   "source": [
    "part_2_sol = test_key_reader(2)\n",
    "for i in range(5):\n",
    "    assert part_2(f\"test_{i+1}.txt\")==part_2_sol[i]"
   ]
  },
  {
   "cell_type": "code",
   "execution_count": 8,
   "id": "eb841e46",
   "metadata": {},
   "outputs": [
    {
     "name": "stdout",
     "output_type": "stream",
     "text": [
      "3425\n"
     ]
    }
   ],
   "source": [
    "print(part_2())"
   ]
  }
 ],
 "metadata": {
  "kernelspec": {
   "display_name": "Python 3",
   "language": "python",
   "name": "python3"
  },
  "language_info": {
   "codemirror_mode": {
    "name": "ipython",
    "version": 3
   },
   "file_extension": ".py",
   "mimetype": "text/x-python",
   "name": "python",
   "nbconvert_exporter": "python",
   "pygments_lexer": "ipython3",
   "version": "3.8.8"
  }
 },
 "nbformat": 4,
 "nbformat_minor": 5
}
