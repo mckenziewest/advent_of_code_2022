{
 "cells": [
  {
   "cell_type": "code",
   "execution_count": 1,
   "id": "637ef8b5",
   "metadata": {},
   "outputs": [],
   "source": [
    "def read_data(file = \"input.txt\"):\n",
    "    with open(file) as openning:\n",
    "        data = openning.read()\n",
    "    return data\n",
    "\n",
    "def test_key_reader(part):\n",
    "    with open(f\"test_key_part{part}.txt\") as openning:\n",
    "        data = openning.read().split(\"\\n\")\n",
    "    return [int(d) for d in data if d!=\"\"]"
   ]
  },
  {
   "cell_type": "code",
   "execution_count": 2,
   "id": "b9c527f1",
   "metadata": {},
   "outputs": [],
   "source": [
    "def process_directory(current,directory):\n",
    "    lines = directory.strip().split('\\n')\n",
    "    size_in_directory = 0\n",
    "    if lines[0] == \"..\":\n",
    "        current = current[:-1]\n",
    "    elif lines[0] == \"/\": current = ['']\n",
    "    else: current = current + lines[0].split(\"/\")\n",
    "    for row in lines[1:]:\n",
    "        if row[0]!=\"$\" and row[:3]!=\"dir\":\n",
    "            size, name = tuple(row.split(\" \"))\n",
    "            size_in_directory += int(size)\n",
    "    return current, size_in_directory\n",
    "    \n",
    "def process_data(data):\n",
    "    directory_immediate_sizes = {}\n",
    "    by_change = data.split(\"$ cd\")\n",
    "    \n",
    "    current_directory = ['']\n",
    "    for directory in by_change:\n",
    "        current_directory,size_in_directory = process_directory(current_directory,directory)\n",
    "        if \"$ ls\" in directory:\n",
    "            directory_immediate_sizes[\"/\".join(current_directory)] = size_in_directory\n",
    "    return directory_immediate_sizes\n",
    "\n",
    "def get_total_sizes(data):\n",
    "    total_sizes = {}\n",
    "    for key in data:\n",
    "        total_sizes[key] = sum(data[container] for container in data if container.startswith(key))\n",
    "    return total_sizes\n",
    "    "
   ]
  },
  {
   "cell_type": "code",
   "execution_count": 3,
   "id": "a9debb2a",
   "metadata": {},
   "outputs": [],
   "source": [
    "def part_1(file = \"input.txt\"):\n",
    "    data = read_data(file)\n",
    "    data = process_data(data)\n",
    "    total_sizes = get_total_sizes(data)\n",
    "    to_return = 0\n",
    "    for key in total_sizes:\n",
    "        if total_sizes[key] <= 100000:\n",
    "            to_return += total_sizes[key]\n",
    "    return to_return"
   ]
  },
  {
   "cell_type": "code",
   "execution_count": 4,
   "id": "f0bcb023",
   "metadata": {},
   "outputs": [],
   "source": [
    "part_1_sol = test_key_reader(1)\n",
    "assert part_1(f\"test.txt\")==part_1_sol[0]"
   ]
  },
  {
   "cell_type": "code",
   "execution_count": 5,
   "id": "b5cf4db2",
   "metadata": {},
   "outputs": [
    {
     "name": "stdout",
     "output_type": "stream",
     "text": [
      "1886043\n"
     ]
    }
   ],
   "source": [
    "print(part_1())"
   ]
  },
  {
   "cell_type": "code",
   "execution_count": 6,
   "id": "be2ba463",
   "metadata": {},
   "outputs": [],
   "source": [
    "def part_2(file = \"input.txt\"):\n",
    "    data = read_data(file)\n",
    "    data = process_data(data)\n",
    "    total_sizes = get_total_sizes(data)\n",
    "    unused_space = 70000000-total_sizes['']\n",
    "    needed_space = 30000000-unused_space\n",
    "    options = [size for size in total_sizes.values() if size>needed_space]\n",
    "    return min(options)"
   ]
  },
  {
   "cell_type": "code",
   "execution_count": 7,
   "id": "ac1ed95d",
   "metadata": {},
   "outputs": [],
   "source": [
    "part_2_sol = test_key_reader(2)\n",
    "assert part_2(f\"test.txt\")==part_2_sol[0]"
   ]
  },
  {
   "cell_type": "code",
   "execution_count": 8,
   "id": "5e99bee4",
   "metadata": {},
   "outputs": [
    {
     "name": "stdout",
     "output_type": "stream",
     "text": [
      "3842121\n"
     ]
    }
   ],
   "source": [
    "print(part_2())\n",
    "\n"
   ]
  }
 ],
 "metadata": {
  "kernelspec": {
   "display_name": "Python 3 (ipykernel)",
   "language": "python",
   "name": "python3"
  },
  "language_info": {
   "codemirror_mode": {
    "name": "ipython",
    "version": 3
   },
   "file_extension": ".py",
   "mimetype": "text/x-python",
   "name": "python",
   "nbconvert_exporter": "python",
   "pygments_lexer": "ipython3",
   "version": "3.8.12"
  }
 },
 "nbformat": 4,
 "nbformat_minor": 5
}
