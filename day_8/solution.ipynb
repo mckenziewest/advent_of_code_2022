{
 "cells": [
  {
   "cell_type": "code",
   "execution_count": 1,
   "id": "0ed35f0d",
   "metadata": {},
   "outputs": [],
   "source": [
    "import numpy as np"
   ]
  },
  {
   "cell_type": "code",
   "execution_count": 2,
   "id": "637ef8b5",
   "metadata": {},
   "outputs": [],
   "source": [
    "def read_data(file = \"input.txt\"):\n",
    "    with open(file) as openning:\n",
    "        data = openning.read()\n",
    "    return data\n",
    "\n",
    "def test_key_reader(part):\n",
    "    with open(f\"test_key_part{part}.txt\") as openning:\n",
    "        data = openning.read().split(\"\\n\")\n",
    "    return [int(d) for d in data if d!=\"\"]"
   ]
  },
  {
   "cell_type": "code",
   "execution_count": 3,
   "id": "a9debb2a",
   "metadata": {},
   "outputs": [],
   "source": [
    "def part_1(file = \"input.txt\"):\n",
    "    data = read_data(file).split('\\n')\n",
    "    is_hidden = [np.array([[False for i in range(len(data[0]))] for j in range(len(data))]) for key in [0,1,2,3]]\n",
    "    tree_array = np.array([list(d) for d in data]).astype(int)\n",
    "    for i in range(0,len(data)):\n",
    "        for j in range(i+1,len(data)):\n",
    "            is_hidden[0][:,j] = np.where(tree_array[:,j] <= tree_array[:,i],True,is_hidden[0][:,j])\n",
    "            is_hidden[1][j,:] = np.where(tree_array[j,:] <= tree_array[i,:],True,is_hidden[1][j,:])\n",
    "        for k in range(0,i):\n",
    "            is_hidden[2][:,k] = np.where(tree_array[:,k] <= tree_array[:,i],True,is_hidden[2][:,k])\n",
    "            is_hidden[3][k,:] = np.where(tree_array[k,:] <= tree_array[i,:],True,is_hidden[3][k,:])\n",
    "    return np.sum( ~is_hidden[0] | ~is_hidden[1] | ~is_hidden[2] | ~is_hidden[3])"
   ]
  },
  {
   "cell_type": "code",
   "execution_count": 4,
   "id": "f0bcb023",
   "metadata": {},
   "outputs": [],
   "source": [
    "part_1_sol = test_key_reader(1)\n",
    "\n",
    "assert part_1(f\"test.txt\")==part_1_sol[0]"
   ]
  },
  {
   "cell_type": "code",
   "execution_count": 5,
   "id": "b5cf4db2",
   "metadata": {},
   "outputs": [
    {
     "name": "stdout",
     "output_type": "stream",
     "text": [
      "1782\n"
     ]
    }
   ],
   "source": [
    "print(part_1())"
   ]
  },
  {
   "cell_type": "code",
   "execution_count": 6,
   "id": "be2ba463",
   "metadata": {},
   "outputs": [],
   "source": [
    "def direction_score(visible):\n",
    "    score = 0\n",
    "    for val in visible:\n",
    "        if val:\n",
    "            score += 1\n",
    "        else:\n",
    "            score += 1\n",
    "            break\n",
    "    return score\n",
    "\n",
    "def part_2(file = \"input.txt\"):\n",
    "    \n",
    "    data = read_data(file).split('\\n')\n",
    "    tree_array = np.array([list(d) for d in data]).astype(int)\n",
    "    \n",
    "    tree_scores = np.zeros(tree_array.shape)\n",
    "    for ii,jj in [(i,j) for i in range(tree_array.shape[0]) for j in range(tree_array.shape[1])]:\n",
    "        this_val = tree_array[ii,jj]\n",
    "        left = tree_array[:ii,jj] < this_val\n",
    "        right = tree_array[ii+1:,jj] < this_val\n",
    "        up = tree_array[ii,:jj] < this_val\n",
    "        down = tree_array[ii,jj+1:] < this_val\n",
    "        \n",
    "        scores = [direction_score(left[::-1]),direction_score(right),direction_score(up[::-1]),direction_score(down)]\n",
    "       \n",
    "        tree_scores[ii,jj] = np.prod(scores)\n",
    "    return np.max(tree_scores)"
   ]
  },
  {
   "cell_type": "code",
   "execution_count": 7,
   "id": "ac1ed95d",
   "metadata": {},
   "outputs": [
    {
     "data": {
      "text/plain": [
       "8.0"
      ]
     },
     "execution_count": 7,
     "metadata": {},
     "output_type": "execute_result"
    }
   ],
   "source": [
    "part_2_sol = test_key_reader(2)\n",
    "assert part_2(f\"test.txt\")==part_2_sol[0]\n",
    "part_2(f\"test.txt\")"
   ]
  },
  {
   "cell_type": "code",
   "execution_count": 8,
   "id": "5e99bee4",
   "metadata": {},
   "outputs": [
    {
     "name": "stdout",
     "output_type": "stream",
     "text": [
      "474606.0\n"
     ]
    }
   ],
   "source": [
    "print(part_2())"
   ]
  }
 ],
 "metadata": {
  "kernelspec": {
   "display_name": "Python 3",
   "language": "python",
   "name": "python3"
  },
  "language_info": {
   "codemirror_mode": {
    "name": "ipython",
    "version": 3
   },
   "file_extension": ".py",
   "mimetype": "text/x-python",
   "name": "python",
   "nbconvert_exporter": "python",
   "pygments_lexer": "ipython3",
   "version": "3.8.8"
  }
 },
 "nbformat": 4,
 "nbformat_minor": 5
}
